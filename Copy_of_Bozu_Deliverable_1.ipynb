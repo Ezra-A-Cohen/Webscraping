{
  "nbformat": 4,
  "nbformat_minor": 0,
  "metadata": {
    "colab": {
      "name": "Copy of Bozu Deliverable 1",
      "provenance": [],
      "include_colab_link": true
    },
    "kernelspec": {
      "name": "python3",
      "display_name": "Python 3"
    },
    "language_info": {
      "name": "python"
    }
  },
  "cells": [
    {
      "cell_type": "markdown",
      "metadata": {
        "id": "view-in-github",
        "colab_type": "text"
      },
      "source": [
        "<a href=\"https://colab.research.google.com/github/Ezra-A-Cohen/Webscraping/blob/main/Copy_of_Bozu_Deliverable_1.ipynb\" target=\"_parent\"><img src=\"https://colab.research.google.com/assets/colab-badge.svg\" alt=\"Open In Colab\"/></a>"
      ]
    },
    {
      "cell_type": "code",
      "execution_count": null,
      "metadata": {
        "id": "78rFPd2Ubq5y",
        "colab": {
          "base_uri": "https://localhost:8080/"
        },
        "outputId": "1dc49e7e-9a61-4bc9-dde7-92d6a5d2e246"
      },
      "outputs": [
        {
          "output_type": "stream",
          "name": "stdout",
          "text": [
            "Requirement already satisfied: requests in /usr/local/lib/python3.7/dist-packages (2.23.0)\n",
            "Requirement already satisfied: chardet<4,>=3.0.2 in /usr/local/lib/python3.7/dist-packages (from requests) (3.0.4)\n",
            "Requirement already satisfied: idna<3,>=2.5 in /usr/local/lib/python3.7/dist-packages (from requests) (2.10)\n",
            "Requirement already satisfied: urllib3!=1.25.0,!=1.25.1,<1.26,>=1.21.1 in /usr/local/lib/python3.7/dist-packages (from requests) (1.24.3)\n",
            "Requirement already satisfied: certifi>=2017.4.17 in /usr/local/lib/python3.7/dist-packages (from requests) (2021.10.8)\n",
            "Requirement already satisfied: beautifulsoup4 in /usr/local/lib/python3.7/dist-packages (4.6.3)\n",
            "Requirement already satisfied: lxml in /usr/local/lib/python3.7/dist-packages (4.2.6)\n",
            "Requirement already satisfied: requests in /usr/local/lib/python3.7/dist-packages (2.23.0)\n",
            "Requirement already satisfied: chardet<4,>=3.0.2 in /usr/local/lib/python3.7/dist-packages (from requests) (3.0.4)\n",
            "Requirement already satisfied: idna<3,>=2.5 in /usr/local/lib/python3.7/dist-packages (from requests) (2.10)\n",
            "Requirement already satisfied: certifi>=2017.4.17 in /usr/local/lib/python3.7/dist-packages (from requests) (2021.10.8)\n",
            "Requirement already satisfied: urllib3!=1.25.0,!=1.25.1,<1.26,>=1.21.1 in /usr/local/lib/python3.7/dist-packages (from requests) (1.24.3)\n"
          ]
        }
      ],
      "source": [
        "!pip install requests\n",
        "!pip install beautifulsoup4\n",
        "!pip install lxml\n",
        "!pip install requests"
      ]
    },
    {
      "cell_type": "code",
      "source": [
        "import requests\n",
        "from bs4 import BeautifulSoup as soup\n",
        "from urllib.request import urlopen as uReq\n",
        "import csv\n",
        "import pandas\n",
        "from lxml import html"
      ],
      "metadata": {
        "id": "xBZC2aVtdFUr"
      },
      "execution_count": null,
      "outputs": []
    },
    {
      "cell_type": "code",
      "source": [
        "page = requests.get(\"https://en.wikipedia.org/wiki/Donald_Trump\").text"
      ],
      "metadata": {
        "id": "eETF8tYvdF0L"
      },
      "execution_count": null,
      "outputs": []
    },
    {
      "cell_type": "markdown",
      "source": [
        "I was strugggling with beautiful soup but I found the xpath method to be easier than beautifulsoup because it can find text with just one line of code. You just list all the tags and attributes to get to the element you're looking for. "
      ],
      "metadata": {
        "id": "gATZXuFvD3oH"
      }
    },
    {
      "cell_type": "code",
      "source": [
        "tree = html.fromstring(page)"
      ],
      "metadata": {
        "id": "C38ndoTuhcKl"
      },
      "execution_count": null,
      "outputs": []
    },
    {
      "cell_type": "markdown",
      "source": [
        "extracting the data for Donald Trump"
      ],
      "metadata": {
        "id": "_Jw3mZAtE0Dq"
      }
    },
    {
      "cell_type": "code",
      "source": [
        "name = tree.xpath(\"//table[@class='infobox vcard']/tbody/tr/td[@class='infobox-data']/div[@class='nickname']/text()\")[0]\n",
        "print(name)"
      ],
      "metadata": {
        "colab": {
          "base_uri": "https://localhost:8080/"
        },
        "id": "_6ZOhWA3gwo5",
        "outputId": "e4ca70db-fc69-4c56-ebac-b218236941c3"
      },
      "execution_count": null,
      "outputs": [
        {
          "output_type": "stream",
          "name": "stdout",
          "text": [
            "Donald John Trump\n"
          ]
        }
      ]
    },
    {
      "cell_type": "code",
      "source": [
        "politician = tree.xpath(\"//table[@class='infobox vcard']/tbody/tr/th[@class='infobox-above']/div[@class='fn']/text()\") [0]\n",
        "print(politician)"
      ],
      "metadata": {
        "colab": {
          "base_uri": "https://localhost:8080/"
        },
        "id": "EvZoY9Bfh85o",
        "outputId": "e2aea8f2-82fa-47bb-e5c0-6bd7e0d8b602"
      },
      "execution_count": null,
      "outputs": [
        {
          "output_type": "stream",
          "name": "stdout",
          "text": [
            "Donald Trump\n"
          ]
        }
      ]
    },
    {
      "cell_type": "code",
      "source": [
        "tempplace = tree.xpath(\"//table[@class='infobox vcard']/tbody/tr/th[text()='Born']/../td/a/text()\")[0]\n",
        "bdayloc = tree.xpath(\"//table[@class='infobox vcard']/tbody/tr/th[text()='Born']/../td[@class='infobox-data']/text()\")\n",
        "place = tempplace + bdayloc[1]\n",
        "place = place.replace(\",\", \"\")\n",
        "print(place)"
      ],
      "metadata": {
        "colab": {
          "base_uri": "https://localhost:8080/"
        },
        "id": "emoF8fg8rHNj",
        "outputId": "8e522c48-ab6d-4c9d-e919-4ae70b248f27"
      },
      "execution_count": null,
      "outputs": [
        {
          "output_type": "stream",
          "name": "stdout",
          "text": [
            "Queens New York City U.S.\n"
          ]
        }
      ]
    },
    {
      "cell_type": "code",
      "source": [
        "bday = bdayloc[0]\n",
        "bday = bday.replace(\",\", \"\")\n",
        "print(bday)"
      ],
      "metadata": {
        "colab": {
          "base_uri": "https://localhost:8080/"
        },
        "id": "tcbW8DMHs_Cw",
        "outputId": "fc9f65f0-8734-4c37-c352-109945b2e6c2"
      },
      "execution_count": null,
      "outputs": [
        {
          "output_type": "stream",
          "name": "stdout",
          "text": [
            "June 14 1946\n"
          ]
        }
      ]
    },
    {
      "cell_type": "code",
      "source": [
        "party = tree.xpath(\"//table[@class='infobox vcard']/tbody/tr/th[text()='Political party']/../td/a/text()\")[0]\n",
        "print(party)"
      ],
      "metadata": {
        "colab": {
          "base_uri": "https://localhost:8080/"
        },
        "id": "IdH2jX6wtCvg",
        "outputId": "a21ed299-7625-43bf-c269-ff1d3525268f"
      },
      "execution_count": null,
      "outputs": [
        {
          "output_type": "stream",
          "name": "stdout",
          "text": [
            "Republican\n"
          ]
        }
      ]
    },
    {
      "cell_type": "code",
      "source": [
        "professions = tree.xpath(\"//table[@class='infobox vcard']/tbody/tr/th[contains(text(),'Profession') or contains(text(),'Occupation')]/../td/div/ul/li/text()\")\n",
        "other_professions = \"\"\n",
        "print(professions)\n",
        "for occupation in professions:\n",
        "  if not \"politician\" in occupation.lower():\n",
        "    other_professions = other_professions + occupation.replace(\"'\",\"\") + \" - \"\n",
        "print(other_professions)"
      ],
      "metadata": {
        "colab": {
          "base_uri": "https://localhost:8080/"
        },
        "id": "mreCmo_MUHPf",
        "outputId": "d6f1e70d-3a58-4bd0-9cb7-5b47097cfb99"
      },
      "execution_count": null,
      "outputs": [
        {
          "output_type": "stream",
          "name": "stdout",
          "text": [
            "['Politician', 'businessman', 'television presenter']\n",
            "businessman - television presenter - \n"
          ]
        }
      ]
    },
    {
      "cell_type": "code",
      "source": [
        "\n",
        "temp = tree.xpath(\"//table[@class='infobox vcard']/tbody/tr/th/a/text()\")[0]\n",
        "print(temp)\n",
        "if \"vice\" in temp.lower():\n",
        "  type = \"Vice President\" \n",
        "else: \n",
        "  type = \"President\"\n",
        "print(type)"
      ],
      "metadata": {
        "colab": {
          "base_uri": "https://localhost:8080/"
        },
        "id": "C6NIK7yocp_q",
        "outputId": "8a43e78a-ce21-47b4-ad32-acb7b8944bca"
      },
      "execution_count": null,
      "outputs": [
        {
          "output_type": "stream",
          "name": "stdout",
          "text": [
            "President of the United States\n",
            "President\n"
          ]
        }
      ]
    },
    {
      "cell_type": "code",
      "source": [
        "dict = {\n",
        "    \"politician\" : politician,\n",
        "    \"name\" : name,\n",
        "    \"bday\" : bday,\n",
        "    \"place\" : place,\n",
        "    \"party\" : party,\n",
        "}\n",
        "print(dict)"
      ],
      "metadata": {
        "colab": {
          "base_uri": "https://localhost:8080/"
        },
        "id": "XiA6kUWnvjRr",
        "outputId": "269cdf42-3a05-48b0-84bc-881583479a39"
      },
      "execution_count": null,
      "outputs": [
        {
          "output_type": "stream",
          "name": "stdout",
          "text": [
            "{'politician': 'Donald Trump', 'name': 'Donald John Trump', 'bday': 'June 14 1946', 'place': 'Queens New York City U.S.', 'party': 'Republican'}\n"
          ]
        }
      ]
    },
    {
      "cell_type": "markdown",
      "source": [
        "function that takes in a politician's page and outputs the scraped info as a dictionary."
      ],
      "metadata": {
        "id": "3bg_RJcoFAH-"
      }
    },
    {
      "cell_type": "code",
      "source": [
        "def scrape(url):\n",
        "  page = requests.get(url).text\n",
        "  tree = html.fromstring(page)\n",
        "  name = tree.xpath(\"//table[@class='infobox vcard']/tbody/tr/td[@class='infobox-data']/div[@class='nickname']/text()\")\n",
        "  politician = tree.xpath(\"//table[@class='infobox vcard']/tbody/tr/th[@class='infobox-above']/div[@class='fn']/text()\")[0]\n",
        "  tempplace = tree.xpath(\"//table[@class='infobox vcard']/tbody/tr/th[text()='Born']/../td/a/text()\")\n",
        "  bdayloc = tree.xpath(\"//table[@class='infobox vcard']/tbody/tr/th[text()='Born']/../td[@class='infobox-data']/text()\")\n",
        "  place = \"\"\n",
        "  professions = tree.xpath(\"//table[@class='infobox vcard']/tbody/tr/th[contains(text(),'Profession') or contains(text(),'Occupation')]/../td/div/ul/li/text()\")\n",
        "  other_professions = \"\"\n",
        "  for occupation in professions:\n",
        "    if not \"politician\" in occupation.lower():\n",
        "      other_professions = other_professions + occupation.replace(\"'\",\"\") + \" - \"\n",
        "    else:\n",
        "      professions = \"\"\n",
        "  #place = tempplace + bdayloc[1]\n",
        "  #place = place.replace(\",\", \"\")\n",
        "  #bday = bdayloc[0]\n",
        "  #bday = bday.replace(\",\", \"\")\n",
        "  party = tree.xpath(\"//table[@class='infobox vcard']/tbody/tr/th[text()='Political party']/../td/a/text()\")\n",
        "  temp = tree.xpath(\"//table[@class='infobox vcard']/tbody/tr/th/a/text()\")[0]\n",
        "  if \"vice\" in temp.lower():\n",
        "    type = \"Vice President\" \n",
        "  else: \n",
        "    type = \"President\"\n",
        "  if len(party)>0:\n",
        "    party = party[0]\n",
        "  else:\n",
        "    party = \"\"\n",
        "  if len(name)>0:\n",
        "    name = name[0]\n",
        "  else:\n",
        "    t = url.split(\"/\")\n",
        "    name=t[len(t)-1].replace(\"_\",\" \")\n",
        "  if len(tempplace)>0:\n",
        "    place = tempplace[0] + bdayloc[1]\n",
        "    place = place.replace(\",\", \"\")\n",
        "  #else:\n",
        "    #place = bdayloc[0]\n",
        "  bday = bdayloc[0]\n",
        "  bday = bday.replace(\",\", \"\")\n",
        "  dict = {\n",
        "    \"politician\" : politician,\n",
        "    \"name\" : name,\n",
        "    \"bday\" : bday,\n",
        "    \"place\" : place,\n",
        "    \"party\" : party,\n",
        "    \"professions\" : other_professions,\n",
        "    \"type\" : type \n",
        "  }\n",
        "  return dict"
      ],
      "metadata": {
        "id": "M4EJMgdl0Utn"
      },
      "execution_count": null,
      "outputs": []
    },
    {
      "cell_type": "markdown",
      "source": [
        "testing the scrape function"
      ],
      "metadata": {
        "id": "szS9oMohDUtf"
      }
    },
    {
      "cell_type": "code",
      "source": [
        "print(scrape(\"https://en.wikipedia.org/wiki/George_H._W._Bush\"))"
      ],
      "metadata": {
        "colab": {
          "base_uri": "https://localhost:8080/"
        },
        "id": "u0aqm1iw0XaO",
        "outputId": "1640f112-1fc4-474f-b686-d33333bc9173"
      },
      "execution_count": null,
      "outputs": [
        {
          "output_type": "stream",
          "name": "stdout",
          "text": [
            "{'politician': 'George H. W. Bush', 'name': 'George Herbert Walker Bush', 'bday': 'June 12 1924', 'place': 'Milton Massachusetts U.S.', 'party': 'Republican', 'professions': 'diplomat - businessman - ', 'type': 'President'}\n"
          ]
        }
      ]
    },
    {
      "cell_type": "markdown",
      "source": [
        "getting all the links to each politician's page from the articles and putting them in an array"
      ],
      "metadata": {
        "id": "qnwW3Z5aDMIO"
      }
    },
    {
      "cell_type": "code",
      "source": [
        "politicians=[\"https://en.wikipedia.org/wiki/Category:21st-century_presidents_of_the_United_States\",\n",
        "\"https://en.wikipedia.org/wiki/Category:20th-century_presidents_of_the_United_States\",\n",
        "\"https://en.wikipedia.org/wiki/Category:19th-century_presidents_of_the_United_States\",\n",
        "\"https://en.wikipedia.org/wiki/Category:21st-century_vice_presidents_of_the_United_States\",\n",
        "\"https://en.wikipedia.org/wiki/Category:20th-century_vice_presidents_of_the_United_States\",\n",
        "\"https://en.wikipedia.org/wiki/Category:19th-century_vice_presidents_of_the_United_States\"\n",
        "]\n",
        "\n",
        "def getUrls(url):\n",
        "  urls=[]\n",
        "  page = requests.get(url).text\n",
        "  tree = html.fromstring(page)\n",
        "  turls = tree.xpath(\"//div[@id='bodyContent']/div[@id='mw-content-text']/div[@class='mw-category-generated']/div/div/ul/li/a/@href\")\n",
        "  if(len(turls)>0):\n",
        "    for turl in turls:\n",
        "      if \"sandbox\" not in turl:\n",
        "        urls.append(\"https://en.wikipedia.org/\"+turl)\n",
        "  else:\n",
        "    turls = tree.xpath(\"//div[@id='bodyContent']/div[@id='mw-content-text']/div[@class='mw-category-generated']/div/div/div/div/ul/li/a/@href\")\n",
        "    for turl in turls:\n",
        "      if \"sandbox\" not in turl:\n",
        "        urls.append(\"https://en.wikipedia.org/\"+turl)\n",
        "  return urls\n",
        "\n",
        "urls = []\n",
        "for politician in politicians:\n",
        "  tempurls = urls\n",
        "  urls = tempurls + getUrls(politician)\n"
      ],
      "metadata": {
        "id": "rpWeHGo_AB4H"
      },
      "execution_count": null,
      "outputs": []
    },
    {
      "cell_type": "markdown",
      "source": [
        "looping the scrape function through the array of all the politicians to scrape each politician's webpage"
      ],
      "metadata": {
        "id": "mYjXvUvxVRPj"
      }
    },
    {
      "cell_type": "code",
      "source": [
        "counter=1\n",
        "mydict={}\n",
        "for x in urls:\n",
        "  mydict[counter]=scrape(x)\n",
        "  counter=counter+1\n",
        "print(mydict)\n"
      ],
      "metadata": {
        "colab": {
          "base_uri": "https://localhost:8080/"
        },
        "id": "gV_oBPMhH-5Q",
        "outputId": "e7cdb4ac-f092-4b33-f970-5a242431f055"
      },
      "execution_count": null,
      "outputs": [
        {
          "output_type": "stream",
          "name": "stdout",
          "text": [
            "{1: {'politician': 'Joe Biden', 'name': 'Joseph Robinette Biden Jr.', 'bday': 'November 20 1942', 'place': 'Scranton Pennsylvania U.S.', 'party': 'Democratic', 'professions': 'lawyer - author - ', 'type': 'President'}, 2: {'politician': 'George W. Bush', 'name': 'George Walker Bush', 'bday': 'July 6 1946', 'place': 'New Haven Connecticut U.S.', 'party': 'Republican', 'professions': 'businessman - ', 'type': 'President'}, 3: {'politician': 'Barack Obama', 'name': 'Barack Hussein Obama II', 'bday': 'August 4 1961', 'place': 'Honolulu Hawaii U.S.', 'party': 'Democratic', 'professions': 'lawyer - author - ', 'type': 'President'}, 4: {'politician': 'Donald Trump', 'name': 'Donald John Trump', 'bday': 'June 14 1946', 'place': 'Queens New York City U.S.', 'party': 'Republican', 'professions': 'businessman - television presenter - ', 'type': 'President'}, 5: {'politician': 'George H. W. Bush', 'name': 'George Herbert Walker Bush', 'bday': 'June 12 1924', 'place': 'Milton Massachusetts U.S.', 'party': 'Republican', 'professions': 'diplomat - businessman - ', 'type': 'President'}, 6: {'politician': 'Jimmy Carter', 'name': 'James Earl Carter Jr.', 'bday': 'October 1 1924', 'place': 'Plains Georgia U.S.', 'party': 'Democratic', 'professions': 'Philanthropist - author - ', 'type': 'President'}, 7: {'politician': 'Bill Clinton', 'name': 'William Jefferson Blythe III', 'bday': 'August 19 1946', 'place': 'Hope Arkansas U.S.', 'party': 'Democratic', 'professions': 'lawyer - professor - author - ', 'type': 'President'}, 8: {'politician': 'Calvin Coolidge', 'name': 'John Calvin Coolidge Jr.', 'bday': 'July 4 1872', 'place': 'Plymouth Notch Vermont U.S.', 'party': 'Republican', 'professions': 'lawyer - ', 'type': 'President'}, 9: {'politician': 'Dwight D. Eisenhower', 'name': 'David Dwight Eisenhower', 'bday': 'October 14 1890', 'place': 'Denison Texas U.S.', 'party': 'Republican', 'professions': 'Military officer - ', 'type': 'President'}, 10: {'politician': 'Gerald Ford', 'name': 'Leslie Lynch King Jr.', 'bday': 'July 14 1913', 'place': 'Omaha Nebraska U.S.', 'party': 'Republican', 'professions': 'lawyer - ', 'type': 'President'}, 11: {'politician': 'Warren G. Harding', 'name': 'Warren Gamaliel Harding', 'bday': 'November 2 1865', 'place': 'Blooming Grove Ohio U.S.', 'party': 'Republican', 'professions': 'journalist - ', 'type': 'President'}, 12: {'politician': 'Herbert Hoover', 'name': 'Herbert Clark Hoover', 'bday': 'August 10 1874', 'place': 'West Branch Iowa U.S.', 'party': 'Republican', 'professions': 'engineer - ', 'type': 'President'}, 13: {'politician': 'Lyndon B. Johnson', 'name': 'Lyndon Baines Johnson', 'bday': 'August 27 1908', 'place': 'Stonewall Texas U.S.', 'party': 'Democratic', 'professions': 'teacher - ', 'type': 'President'}, 14: {'politician': 'John F. Kennedy', 'name': 'John Fitzgerald Kennedy', 'bday': 'May 29 1917', 'place': 'Brookline Massachusetts U.S.', 'party': 'Democratic', 'professions': 'journalist - ', 'type': 'President'}, 15: {'politician': 'William McKinley', 'name': 'William McKinley Jr.', 'bday': 'January 29 1843', 'place': 'Niles Ohio U.S.', 'party': 'Republican', 'professions': 'lawyer - ', 'type': 'President'}, 16: {'politician': 'Richard Nixon', 'name': 'Richard Milhous Nixon', 'bday': 'January 9 1913', 'place': 'Yorba Linda California U.S.', 'party': 'Republican', 'professions': 'lawyer - author - ', 'type': 'President'}, 17: {'politician': 'Ronald Reagan', 'name': 'Ronald Wilson Reagan', 'bday': 'February 6 1911', 'place': 'Tampico Illinois U.S.', 'party': 'Republican', 'professions': 'trade unionist - actor - author - broadcaster - ', 'type': 'President'}, 18: {'politician': 'Franklin D. Roosevelt', 'name': 'Franklin Delano Roosevelt', 'bday': 'January 30 1882', 'place': 'Hyde Park New York U.S.', 'party': 'Democratic', 'professions': 'lawyer - ', 'type': 'President'}, 19: {'politician': 'Theodore Roosevelt', 'name': 'Theodore Roosevelt Jr.', 'bday': 'October 27 1858', 'place': '', 'party': 'Republican', 'professions': 'Author - conservationist - explorer - historian - naturalist - police commissioner - soldier - sportsman - ', 'type': 'President'}, 20: {'politician': 'William Howard Taft', 'name': 'William Howard Taft', 'bday': 'September 15 1857', 'place': 'Cincinnati ', 'party': 'Republican', 'professions': 'lawyer - ', 'type': 'President'}, 21: {'politician': 'Harry S. Truman', 'name': 'Harry S. Truman', 'bday': 'May 8 1884', 'place': 'Lamar Missouri U.S.', 'party': 'Democratic', 'professions': 'farmer - ', 'type': 'President'}, 22: {'politician': 'Woodrow Wilson', 'name': 'Thomas Woodrow Wilson', 'bday': 'December 28 1856', 'place': 'Staunton Virginia U.S.', 'party': 'Democratic', 'professions': 'academic - ', 'type': 'President'}, 23: {'politician': 'John Adams', 'name': 'John Adams', 'bday': 'October 30 1735', 'place': 'Braintree ', 'party': '', 'professions': 'lawyer - ', 'type': 'President'}, 24: {'politician': 'John Quincy Adams', 'name': 'John Quincy Adams', 'bday': 'July 11 1767', 'place': 'Braintree ', 'party': 'Whig', 'professions': 'lawyer - ', 'type': 'President'}, 25: {'politician': 'Chester A. Arthur', 'name': 'Chester Alan Arthur', 'bday': 'October 5 1829', 'place': 'Fairfield Vermont U.S.', 'party': 'Republican', 'professions': 'Lawyer - civil servant - ', 'type': 'President'}, 26: {'politician': 'James Buchanan', 'name': 'James Buchanan', 'bday': 'April 23 1791', 'place': 'Cove Gap Pennsylvania U.S.', 'party': '', 'professions': 'lawyer - ', 'type': 'President'}, 27: {'politician': 'Grover Cleveland', 'name': 'Stephen Grover Cleveland', 'bday': 'March 18 1837', 'place': 'Caldwell New Jersey U.S.', 'party': 'Democratic', 'professions': 'lawyer - ', 'type': 'President'}, 28: {'politician': 'Millard Fillmore', 'name': 'Millard Fillmore', 'bday': 'January 7 1800', 'place': 'Moravia New York U.S.', 'party': '', 'professions': 'lawyer - ', 'type': 'President'}, 29: {'politician': 'James A. Garfield', 'name': 'James Abram Garfield', 'bday': 'November 19 1831', 'place': 'Moreland Hills Ohio U.S.', 'party': 'Republican', 'professions': 'lawyer - amateur mathematician - ', 'type': 'President'}, 30: {'politician': 'Ulysses S. Grant', 'name': 'Hiram Ulysses Grant', 'bday': 'April 27 1822', 'place': 'Point Pleasant Ohio U.S.', 'party': 'Republican', 'professions': 'Military officer - ', 'type': 'President'}, 31: {'politician': 'Benjamin Harrison', 'name': 'Benjamin Harrison', 'bday': 'August 20 1833', 'place': 'North Bend ', 'party': '', 'professions': 'lawyer - ', 'type': 'President'}, 32: {'politician': 'William Henry Harrison', 'name': 'William Henry Harrison', 'bday': 'February 9 1773', 'place': 'Charles City County ', 'party': '', 'professions': 'Military officer - ', 'type': 'President'}, 33: {'politician': 'Rutherford B. Hayes', 'name': 'Rutherford Birchard Hayes', 'bday': 'October 4 1822', 'place': 'Delaware Ohio U.S.', 'party': '', 'professions': 'lawyer - ', 'type': 'President'}, 34: {'politician': 'Andrew Jackson', 'name': 'Andrew Jackson', 'bday': 'March 15 1767', 'place': 'Waxhaw Settlement between ', 'party': '', 'professions': 'lawyer - soldier - ', 'type': 'President'}, 35: {'politician': 'Thomas Jefferson', 'name': 'Thomas Jefferson', 'bday': 'April 13 1743', 'place': 'Shadwell ', 'party': 'Democratic-Republican', 'professions': 'lawyer - ', 'type': 'President'}, 36: {'politician': 'Andrew Johnson', 'name': 'Andrew Johnson', 'bday': 'December 29 1808', 'place': 'Raleigh North Carolina U.S.', 'party': 'Democratic', 'professions': 'tailor - ', 'type': 'President'}, 37: {'politician': 'Abraham Lincoln', 'name': 'Abraham Lincoln', 'bday': 'February 12 1809', 'place': 'Hodgenville Kentucky U.S.', 'party': '', 'professions': 'lawyer - ', 'type': 'President'}, 38: {'politician': 'James Madison', 'name': 'James Madison', 'bday': 'March 16 1751', 'place': 'Port Conway Virginia ', 'party': 'Democratic-Republican', 'professions': 'farmer - ', 'type': 'President'}, 39: {'politician': 'William McKinley', 'name': 'William McKinley Jr.', 'bday': 'January 29 1843', 'place': 'Niles Ohio U.S.', 'party': 'Republican', 'professions': 'lawyer - ', 'type': 'President'}, 40: {'politician': 'James Monroe', 'name': 'James Monroe', 'bday': 'April 28 1758', 'place': 'Monroe Hall ', 'party': 'Democratic-Republican', 'professions': 'lawyer - ', 'type': 'President'}, 41: {'politician': 'Franklin Pierce', 'name': 'Franklin Pierce', 'bday': 'November 23 1804', 'place': 'Hillsborough New Hampshire U.S.', 'party': 'Democratic', 'professions': 'lawyer - ', 'type': 'President'}, 42: {'politician': 'James K. Polk', 'name': 'James Knox Polk', 'bday': 'November 2 1795', 'place': 'Pineville North Carolina U.S.', 'party': 'Democratic', 'professions': 'lawyer - ', 'type': 'President'}, 43: {'politician': 'Zachary Taylor', 'name': 'Zachary Taylor', 'bday': 'November 24 1784', 'place': 'Barboursville Virginia U.S.', 'party': 'Whig', 'professions': 'Military officer - ', 'type': 'President'}, 44: {'politician': 'John Tyler', 'name': 'John Tyler', 'bday': 'March 29 1790', 'place': 'Greenway Plantation ', 'party': 'Independent', 'professions': 'lawyer - ', 'type': 'President'}, 45: {'politician': 'Martin Van Buren', 'name': 'Maarten van Buren', 'bday': 'December 5 1782', 'place': 'Kinderhook New York U.S.', 'party': '', 'professions': 'lawyer - ', 'type': 'President'}, 46: {'politician': 'Joe Biden', 'name': 'Joseph Robinette Biden Jr.', 'bday': 'November 20 1942', 'place': 'Scranton Pennsylvania U.S.', 'party': 'Democratic', 'professions': 'lawyer - author - ', 'type': 'President'}, 47: {'politician': 'Dick Cheney', 'name': 'Richard Bruce Cheney', 'bday': 'January 30 1941', 'place': 'Lincoln Nebraska U.S.', 'party': 'Republican', 'professions': '', 'type': 'Vice President'}, 48: {'politician': 'Al Gore', 'name': 'Albert Arnold Gore Jr.', 'bday': 'March 31 1948', 'place': '', 'party': 'Democratic', 'professions': 'environmentalist - lawyer - businessman - journalist - author - ', 'type': 'Vice President'}, 49: {'politician': 'Kamala Harris', 'name': 'Kamala Devi Harris', 'bday': 'October 20 1964', 'place': 'Oakland California U.S.', 'party': 'Democratic', 'professions': 'lawyer - author - ', 'type': 'Vice President'}, 50: {'politician': 'Mike Pence', 'name': 'Michael Richard Pence', 'bday': 'June 7 1959', 'place': 'Columbus Indiana U.S.', 'party': 'Republican', 'professions': 'lawyer - broadcaster - ', 'type': 'Vice President'}, 51: {'politician': 'Spiro Agnew', 'name': 'Spiro Theodore Agnew', 'bday': 'November 9 1918', 'place': 'Baltimore ', 'party': 'Republican', 'professions': '', 'type': 'Vice President'}, 52: {'politician': 'Alben W. Barkley', 'name': 'Willie Alben Barkley', 'bday': 'November 24 1877', 'place': 'Lowes Kentucky U.S.', 'party': 'Democratic', 'professions': '', 'type': 'Vice President'}, 53: {'politician': 'George H. W. Bush', 'name': 'George Herbert Walker Bush', 'bday': 'June 12 1924', 'place': 'Milton Massachusetts U.S.', 'party': 'Republican', 'professions': 'diplomat - businessman - ', 'type': 'President'}, 54: {'politician': 'Calvin Coolidge', 'name': 'John Calvin Coolidge Jr.', 'bday': 'July 4 1872', 'place': 'Plymouth Notch Vermont U.S.', 'party': 'Republican', 'professions': 'lawyer - ', 'type': 'President'}, 55: {'politician': 'Charles Curtis', 'name': 'Charles Curtis', 'bday': 'January 25 1860', 'place': 'North Topeka ', 'party': 'Republican', 'professions': '', 'type': 'Vice President'}, 56: {'politician': 'Charles G. Dawes', 'name': 'Charles G. Dawes', 'bday': 'August 27 1865', 'place': 'Marietta Ohio U.S.', 'party': 'Republican', 'professions': '', 'type': 'Vice President'}, 57: {'politician': 'Charles W. Fairbanks', 'name': 'Charles Warren Fairbanks', 'bday': 'May 11 1852', 'place': 'Unionville Center Ohio U.S.', 'party': 'Republican', 'professions': '', 'type': 'Vice President'}, 58: {'politician': 'Gerald Ford', 'name': 'Leslie Lynch King Jr.', 'bday': 'July 14 1913', 'place': 'Omaha Nebraska U.S.', 'party': 'Republican', 'professions': 'lawyer - ', 'type': 'President'}, 59: {'politician': 'John Nance Garner', 'name': 'John Nance Garner III', 'bday': 'November 22 1868', 'place': 'Red River County ', 'party': 'Democratic', 'professions': '', 'type': 'Vice President'}, 60: {'politician': 'Al Gore', 'name': 'Albert Arnold Gore Jr.', 'bday': 'March 31 1948', 'place': '', 'party': 'Democratic', 'professions': 'environmentalist - lawyer - businessman - journalist - author - ', 'type': 'Vice President'}, 61: {'politician': 'Hubert Humphrey', 'name': 'Hubert Horatio Humphrey Jr.', 'bday': 'May 27 1911', 'place': 'Wallace South Dakota U.S.', 'party': 'Democratic–Farmer–Labor', 'professions': '', 'type': 'Vice President'}, 62: {'politician': 'Lyndon B. Johnson', 'name': 'Lyndon Baines Johnson', 'bday': 'August 27 1908', 'place': 'Stonewall Texas U.S.', 'party': 'Democratic', 'professions': 'teacher - ', 'type': 'President'}, 63: {'politician': 'Thomas Marshall', 'name': 'Thomas Riley Marshall', 'bday': 'March 14 1854', 'place': 'North Manchester Indiana U.S.', 'party': 'Democratic', 'professions': '', 'type': 'Vice President'}, 64: {'politician': 'Walter Mondale', 'name': 'Walter Mondale', 'bday': 'January 5 1928', 'place': 'Ceylon Minnesota U.S.', 'party': 'Democratic', 'professions': '', 'type': 'Vice President'}, 65: {'politician': 'Richard Nixon', 'name': 'Richard Milhous Nixon', 'bday': 'January 9 1913', 'place': 'Yorba Linda California U.S.', 'party': 'Republican', 'professions': 'lawyer - author - ', 'type': 'President'}, 66: {'politician': 'Dan Quayle', 'name': 'James Danforth Quayle', 'bday': 'February 4 1947', 'place': 'Indianapolis ', 'party': 'Republican', 'professions': '', 'type': 'Vice President'}, 67: {'politician': 'Nelson Rockefeller', 'name': 'Nelson Aldrich Rockefeller', 'bday': 'July 8 1908', 'place': 'Bar Harbor Maine U.S.', 'party': 'Republican', 'professions': '', 'type': 'Vice President'}, 68: {'politician': 'Theodore Roosevelt', 'name': 'Theodore Roosevelt Jr.', 'bday': 'October 27 1858', 'place': '', 'party': 'Republican', 'professions': 'Author - conservationist - explorer - historian - naturalist - police commissioner - soldier - sportsman - ', 'type': 'President'}, 69: {'politician': 'James S. Sherman', 'name': 'James Schoolcraft Sherman', 'bday': 'October 24 1855', 'place': 'Utica New York U.S.', 'party': 'Republican', 'professions': '', 'type': 'Vice President'}, 70: {'politician': 'Harry S. Truman', 'name': 'Harry S. Truman', 'bday': 'May 8 1884', 'place': 'Lamar Missouri U.S.', 'party': 'Democratic', 'professions': 'farmer - ', 'type': 'President'}, 71: {'politician': 'Henry A. Wallace', 'name': 'Henry Agard Wallace', 'bday': 'October 7 1888', 'place': 'Orient Iowa U.S.', 'party': 'Republican', 'professions': '', 'type': 'Vice President'}, 72: {'politician': 'John C. Breckinridge', 'name': 'John Cabell Breckinridge', 'bday': 'January 16 1821', 'place': 'Lexington Kentucky U.S.', 'party': 'Democratic', 'professions': '', 'type': 'Vice President'}, 73: {'politician': 'Aaron Burr', 'name': 'Aaron Burr Jr.', 'bday': 'February 6 1756', 'place': 'Newark ', 'party': 'Democratic-Republican', 'professions': '', 'type': 'Vice President'}, 74: {'politician': 'John C. Calhoun', 'name': 'John Caldwell Calhoun', 'bday': 'March 18 1782', 'place': '', 'party': 'Democratic-Republican', 'professions': '', 'type': 'Vice President'}, 75: {'politician': 'George Clinton', 'name': 'George Clinton (vice president)', 'bday': 'July 26\\xa0[', 'place': 'O.S. July 15]\\xa01739', 'party': 'Democratic-Republican', 'professions': '', 'type': 'Vice President'}, 76: {'politician': 'Schuyler Colfax', 'name': 'Schuyler Colfax Jr.', 'bday': 'March 23 1823', 'place': 'Manhattan New York City U.S.', 'party': 'Whig', 'professions': '', 'type': 'Vice President'}, 77: {'politician': 'George M. Dallas', 'name': 'George Mifflin Dallas', 'bday': 'July 10 1792', 'place': 'Philadelphia ', 'party': 'Democratic', 'professions': '', 'type': 'Vice President'}, 78: {'politician': 'Millard Fillmore', 'name': 'Millard Fillmore', 'bday': 'January 7 1800', 'place': 'Moravia New York U.S.', 'party': '', 'professions': 'lawyer - ', 'type': 'President'}, 79: {'politician': 'Elbridge Gerry', 'name': 'Elbridge Thomas Gerry', 'bday': 'July 17 1744', 'place': 'Marblehead ', 'party': 'Democratic-Republican', 'professions': '', 'type': 'Vice President'}, 80: {'politician': 'Hannibal Hamlin', 'name': 'Hannibal Hamlin', 'bday': 'August 27 1809', 'place': 'Paris ', 'party': 'Democratic', 'professions': '', 'type': 'Vice President'}, 81: {'politician': 'Thomas A. Hendricks', 'name': 'Thomas Andrews Hendricks', 'bday': 'September 7 1819', 'place': 'Fultonham Ohio U.S.', 'party': 'Democratic', 'professions': '', 'type': 'Vice President'}, 82: {'politician': 'Garret Hobart', 'name': 'Garret Augustus Hobart', 'bday': 'June 3 1844', 'place': 'Long Branch New Jersey U.S.', 'party': 'Republican', 'professions': 'attorney - ', 'type': 'Vice President'}, 83: {'politician': 'Thomas Jefferson', 'name': 'Thomas Jefferson', 'bday': 'April 13 1743', 'place': 'Shadwell ', 'party': 'Democratic-Republican', 'professions': 'lawyer - ', 'type': 'President'}, 84: {'politician': 'Andrew Johnson', 'name': 'Andrew Johnson', 'bday': 'December 29 1808', 'place': 'Raleigh North Carolina U.S.', 'party': 'Democratic', 'professions': 'tailor - ', 'type': 'President'}, 85: {'politician': 'Richard Mentor Johnson', 'name': 'Richard Mentor Johnson', 'bday': 'October 17 1780', 'place': 'VirginiaBeargrass ', 'party': 'Democratic-Republican', 'professions': '', 'type': 'Vice President'}, 86: {'politician': 'William R. King', 'name': 'William Rufus DeVane King', 'bday': 'April 7 1786', 'place': 'Sampson County North Carolina U.S.', 'party': 'Democratic', 'professions': '', 'type': 'Vice President'}, 87: {'politician': 'Levi P. Morton', 'name': 'Levi Parsons Morton', 'bday': 'May 16 1824', 'place': 'Shoreham Vermont U.S.', 'party': 'Republican', 'professions': '', 'type': 'Vice President'}, 88: {'politician': 'Adlai Stevenson', 'name': 'Adlai Ewing Stevenson', 'bday': 'October 23 1835', 'place': 'Christian County Kentucky U.S.', 'party': 'Democratic', 'professions': '', 'type': 'Vice President'}, 89: {'politician': 'Daniel D. Tompkins', 'name': 'Daniel D. Tompkins', 'bday': 'June 21 1774', 'place': 'Scarsdale ', 'party': 'Democratic-Republican', 'professions': '', 'type': 'Vice President'}, 90: {'politician': 'John Tyler', 'name': 'John Tyler', 'bday': 'March 29 1790', 'place': 'Greenway Plantation ', 'party': 'Independent', 'professions': 'lawyer - ', 'type': 'President'}, 91: {'politician': 'Martin Van Buren', 'name': 'Maarten van Buren', 'bday': 'December 5 1782', 'place': 'Kinderhook New York U.S.', 'party': '', 'professions': 'lawyer - ', 'type': 'President'}, 92: {'politician': 'William A. Wheeler', 'name': 'William Almon Wheeler', 'bday': 'June 30 1819', 'place': 'Malone New York U.S.', 'party': 'Republican', 'professions': '', 'type': 'Vice President'}, 93: {'politician': 'Henry Wilson', 'name': 'Jeremiah Jones Colbath', 'bday': 'February 16 1812', 'place': 'Farmington New Hampshire U.S.', 'party': 'Whig', 'professions': '', 'type': 'Vice President'}}\n"
          ]
        }
      ]
    },
    {
      "cell_type": "markdown",
      "source": [
        "turning the scraped data into a dataframe and making a csv"
      ],
      "metadata": {
        "id": "jgXppuTicYAB"
      }
    },
    {
      "cell_type": "code",
      "source": [
        "df = pandas.DataFrame(mydict)\n",
        "df_t = df.T\n",
        "#to transpose rows and columns\n",
        "csvfile = df_t.to_csv('df.csv', index=False)\n",
        "\n",
        "pandas.read_csv('df.csv')\n"
      ],
      "metadata": {
        "colab": {
          "base_uri": "https://localhost:8080/",
          "height": 605
        },
        "id": "Q_4En7R9JqXO",
        "outputId": "0edf6fdd-0511-42ab-a2b5-0c844c4a674b"
      },
      "execution_count": null,
      "outputs": [
        {
          "output_type": "execute_result",
          "data": {
            "text/html": [
              "\n",
              "  <div id=\"df-29b89909-12ec-4f5b-ae0d-f1e212493fbb\">\n",
              "    <div class=\"colab-df-container\">\n",
              "      <div>\n",
              "<style scoped>\n",
              "    .dataframe tbody tr th:only-of-type {\n",
              "        vertical-align: middle;\n",
              "    }\n",
              "\n",
              "    .dataframe tbody tr th {\n",
              "        vertical-align: top;\n",
              "    }\n",
              "\n",
              "    .dataframe thead th {\n",
              "        text-align: right;\n",
              "    }\n",
              "</style>\n",
              "<table border=\"1\" class=\"dataframe\">\n",
              "  <thead>\n",
              "    <tr style=\"text-align: right;\">\n",
              "      <th></th>\n",
              "      <th>politician</th>\n",
              "      <th>name</th>\n",
              "      <th>bday</th>\n",
              "      <th>place</th>\n",
              "      <th>party</th>\n",
              "      <th>professions</th>\n",
              "      <th>type</th>\n",
              "    </tr>\n",
              "  </thead>\n",
              "  <tbody>\n",
              "    <tr>\n",
              "      <th>0</th>\n",
              "      <td>Joe Biden</td>\n",
              "      <td>Joseph Robinette Biden Jr.</td>\n",
              "      <td>November 20 1942</td>\n",
              "      <td>Scranton Pennsylvania U.S.</td>\n",
              "      <td>Democratic</td>\n",
              "      <td>lawyer - author -</td>\n",
              "      <td>President</td>\n",
              "    </tr>\n",
              "    <tr>\n",
              "      <th>1</th>\n",
              "      <td>George W. Bush</td>\n",
              "      <td>George Walker Bush</td>\n",
              "      <td>July 6 1946</td>\n",
              "      <td>New Haven Connecticut U.S.</td>\n",
              "      <td>Republican</td>\n",
              "      <td>businessman -</td>\n",
              "      <td>President</td>\n",
              "    </tr>\n",
              "    <tr>\n",
              "      <th>2</th>\n",
              "      <td>Barack Obama</td>\n",
              "      <td>Barack Hussein Obama II</td>\n",
              "      <td>August 4 1961</td>\n",
              "      <td>Honolulu Hawaii U.S.</td>\n",
              "      <td>Democratic</td>\n",
              "      <td>lawyer - author -</td>\n",
              "      <td>President</td>\n",
              "    </tr>\n",
              "    <tr>\n",
              "      <th>3</th>\n",
              "      <td>Donald Trump</td>\n",
              "      <td>Donald John Trump</td>\n",
              "      <td>June 14 1946</td>\n",
              "      <td>Queens New York City U.S.</td>\n",
              "      <td>Republican</td>\n",
              "      <td>businessman - television presenter -</td>\n",
              "      <td>President</td>\n",
              "    </tr>\n",
              "    <tr>\n",
              "      <th>4</th>\n",
              "      <td>George H. W. Bush</td>\n",
              "      <td>George Herbert Walker Bush</td>\n",
              "      <td>June 12 1924</td>\n",
              "      <td>Milton Massachusetts U.S.</td>\n",
              "      <td>Republican</td>\n",
              "      <td>diplomat - businessman -</td>\n",
              "      <td>President</td>\n",
              "    </tr>\n",
              "    <tr>\n",
              "      <th>...</th>\n",
              "      <td>...</td>\n",
              "      <td>...</td>\n",
              "      <td>...</td>\n",
              "      <td>...</td>\n",
              "      <td>...</td>\n",
              "      <td>...</td>\n",
              "      <td>...</td>\n",
              "    </tr>\n",
              "    <tr>\n",
              "      <th>88</th>\n",
              "      <td>Daniel D. Tompkins</td>\n",
              "      <td>Daniel D. Tompkins</td>\n",
              "      <td>June 21 1774</td>\n",
              "      <td>Scarsdale</td>\n",
              "      <td>Democratic-Republican</td>\n",
              "      <td>NaN</td>\n",
              "      <td>Vice President</td>\n",
              "    </tr>\n",
              "    <tr>\n",
              "      <th>89</th>\n",
              "      <td>John Tyler</td>\n",
              "      <td>John Tyler</td>\n",
              "      <td>March 29 1790</td>\n",
              "      <td>Greenway Plantation</td>\n",
              "      <td>Independent</td>\n",
              "      <td>lawyer -</td>\n",
              "      <td>President</td>\n",
              "    </tr>\n",
              "    <tr>\n",
              "      <th>90</th>\n",
              "      <td>Martin Van Buren</td>\n",
              "      <td>Maarten van Buren</td>\n",
              "      <td>December 5 1782</td>\n",
              "      <td>Kinderhook New York U.S.</td>\n",
              "      <td>NaN</td>\n",
              "      <td>lawyer -</td>\n",
              "      <td>President</td>\n",
              "    </tr>\n",
              "    <tr>\n",
              "      <th>91</th>\n",
              "      <td>William A. Wheeler</td>\n",
              "      <td>William Almon Wheeler</td>\n",
              "      <td>June 30 1819</td>\n",
              "      <td>Malone New York U.S.</td>\n",
              "      <td>Republican</td>\n",
              "      <td>NaN</td>\n",
              "      <td>Vice President</td>\n",
              "    </tr>\n",
              "    <tr>\n",
              "      <th>92</th>\n",
              "      <td>Henry Wilson</td>\n",
              "      <td>Jeremiah Jones Colbath</td>\n",
              "      <td>February 16 1812</td>\n",
              "      <td>Farmington New Hampshire U.S.</td>\n",
              "      <td>Whig</td>\n",
              "      <td>NaN</td>\n",
              "      <td>Vice President</td>\n",
              "    </tr>\n",
              "  </tbody>\n",
              "</table>\n",
              "<p>93 rows × 7 columns</p>\n",
              "</div>\n",
              "      <button class=\"colab-df-convert\" onclick=\"convertToInteractive('df-29b89909-12ec-4f5b-ae0d-f1e212493fbb')\"\n",
              "              title=\"Convert this dataframe to an interactive table.\"\n",
              "              style=\"display:none;\">\n",
              "        \n",
              "  <svg xmlns=\"http://www.w3.org/2000/svg\" height=\"24px\"viewBox=\"0 0 24 24\"\n",
              "       width=\"24px\">\n",
              "    <path d=\"M0 0h24v24H0V0z\" fill=\"none\"/>\n",
              "    <path d=\"M18.56 5.44l.94 2.06.94-2.06 2.06-.94-2.06-.94-.94-2.06-.94 2.06-2.06.94zm-11 1L8.5 8.5l.94-2.06 2.06-.94-2.06-.94L8.5 2.5l-.94 2.06-2.06.94zm10 10l.94 2.06.94-2.06 2.06-.94-2.06-.94-.94-2.06-.94 2.06-2.06.94z\"/><path d=\"M17.41 7.96l-1.37-1.37c-.4-.4-.92-.59-1.43-.59-.52 0-1.04.2-1.43.59L10.3 9.45l-7.72 7.72c-.78.78-.78 2.05 0 2.83L4 21.41c.39.39.9.59 1.41.59.51 0 1.02-.2 1.41-.59l7.78-7.78 2.81-2.81c.8-.78.8-2.07 0-2.86zM5.41 20L4 18.59l7.72-7.72 1.47 1.35L5.41 20z\"/>\n",
              "  </svg>\n",
              "      </button>\n",
              "      \n",
              "  <style>\n",
              "    .colab-df-container {\n",
              "      display:flex;\n",
              "      flex-wrap:wrap;\n",
              "      gap: 12px;\n",
              "    }\n",
              "\n",
              "    .colab-df-convert {\n",
              "      background-color: #E8F0FE;\n",
              "      border: none;\n",
              "      border-radius: 50%;\n",
              "      cursor: pointer;\n",
              "      display: none;\n",
              "      fill: #1967D2;\n",
              "      height: 32px;\n",
              "      padding: 0 0 0 0;\n",
              "      width: 32px;\n",
              "    }\n",
              "\n",
              "    .colab-df-convert:hover {\n",
              "      background-color: #E2EBFA;\n",
              "      box-shadow: 0px 1px 2px rgba(60, 64, 67, 0.3), 0px 1px 3px 1px rgba(60, 64, 67, 0.15);\n",
              "      fill: #174EA6;\n",
              "    }\n",
              "\n",
              "    [theme=dark] .colab-df-convert {\n",
              "      background-color: #3B4455;\n",
              "      fill: #D2E3FC;\n",
              "    }\n",
              "\n",
              "    [theme=dark] .colab-df-convert:hover {\n",
              "      background-color: #434B5C;\n",
              "      box-shadow: 0px 1px 3px 1px rgba(0, 0, 0, 0.15);\n",
              "      filter: drop-shadow(0px 1px 2px rgba(0, 0, 0, 0.3));\n",
              "      fill: #FFFFFF;\n",
              "    }\n",
              "  </style>\n",
              "\n",
              "      <script>\n",
              "        const buttonEl =\n",
              "          document.querySelector('#df-29b89909-12ec-4f5b-ae0d-f1e212493fbb button.colab-df-convert');\n",
              "        buttonEl.style.display =\n",
              "          google.colab.kernel.accessAllowed ? 'block' : 'none';\n",
              "\n",
              "        async function convertToInteractive(key) {\n",
              "          const element = document.querySelector('#df-29b89909-12ec-4f5b-ae0d-f1e212493fbb');\n",
              "          const dataTable =\n",
              "            await google.colab.kernel.invokeFunction('convertToInteractive',\n",
              "                                                     [key], {});\n",
              "          if (!dataTable) return;\n",
              "\n",
              "          const docLinkHtml = 'Like what you see? Visit the ' +\n",
              "            '<a target=\"_blank\" href=https://colab.research.google.com/notebooks/data_table.ipynb>data table notebook</a>'\n",
              "            + ' to learn more about interactive tables.';\n",
              "          element.innerHTML = '';\n",
              "          dataTable['output_type'] = 'display_data';\n",
              "          await google.colab.output.renderOutput(dataTable, element);\n",
              "          const docLink = document.createElement('div');\n",
              "          docLink.innerHTML = docLinkHtml;\n",
              "          element.appendChild(docLink);\n",
              "        }\n",
              "      </script>\n",
              "    </div>\n",
              "  </div>\n",
              "  "
            ],
            "text/plain": [
              "            politician  ...            type\n",
              "0            Joe Biden  ...       President\n",
              "1       George W. Bush  ...       President\n",
              "2         Barack Obama  ...       President\n",
              "3         Donald Trump  ...       President\n",
              "4    George H. W. Bush  ...       President\n",
              "..                 ...  ...             ...\n",
              "88  Daniel D. Tompkins  ...  Vice President\n",
              "89          John Tyler  ...       President\n",
              "90    Martin Van Buren  ...       President\n",
              "91  William A. Wheeler  ...  Vice President\n",
              "92        Henry Wilson  ...  Vice President\n",
              "\n",
              "[93 rows x 7 columns]"
            ]
          },
          "metadata": {},
          "execution_count": 18
        }
      ]
    },
    {
      "cell_type": "code",
      "source": [
        "turls = ['https://en.wikipedia.org//wiki/Joe_Biden', 'https://en.wikipedia.org//wiki/George_W._Bush', 'https://en.wikipedia.org//wiki/Barack_Obama', 'https://en.wikipedia.org//wiki/Donald_Trump', 'https://en.wikipedia.org//wiki/George_H._W._Bush', 'https://en.wikipedia.org//wiki/Jimmy_Carter', 'https://en.wikipedia.org//wiki/Bill_Clinton', 'https://en.wikipedia.org//wiki/Calvin_Coolidge', 'https://en.wikipedia.org//wiki/Dwight_D._Eisenhower', 'https://en.wikipedia.org//wiki/Gerald_Ford', 'https://en.wikipedia.org//wiki/Warren_G._Harding', 'https://en.wikipedia.org//wiki/Herbert_Hoover', 'https://en.wikipedia.org//wiki/Lyndon_B._Johnson', 'https://en.wikipedia.org//wiki/John_F._Kennedy', 'https://en.wikipedia.org//wiki/William_McKinley', 'https://en.wikipedia.org//wiki/Richard_Nixon', 'https://en.wikipedia.org//wiki/Ronald_Reagan', 'https://en.wikipedia.org//wiki/Franklin_D._Roosevelt', 'https://en.wikipedia.org//wiki/Theodore_Roosevelt', 'https://en.wikipedia.org//wiki/William_Howard_Taft', 'https://en.wikipedia.org//wiki/Harry_S._Truman', 'https://en.wikipedia.org//wiki/Woodrow_Wilson', 'https://en.wikipedia.org//wiki/John_Adams', 'https://en.wikipedia.org//wiki/John_Quincy_Adams', 'https://en.wikipedia.org//wiki/Chester_A._Arthur', 'https://en.wikipedia.org//wiki/James_Buchanan', 'https://en.wikipedia.org//wiki/Grover_Cleveland', 'https://en.wikipedia.org//wiki/Millard_Fillmore', 'https://en.wikipedia.org//wiki/James_A._Garfield', 'https://en.wikipedia.org//wiki/Ulysses_S._Grant', 'https://en.wikipedia.org//wiki/Benjamin_Harrison', 'https://en.wikipedia.org//wiki/William_Henry_Harrison', 'https://en.wikipedia.org//wiki/Rutherford_B._Hayes', 'https://en.wikipedia.org//wiki/Andrew_Jackson', 'https://en.wikipedia.org//wiki/Thomas_Jefferson', 'https://en.wikipedia.org//wiki/Andrew_Johnson', 'https://en.wikipedia.org//wiki/Abraham_Lincoln', 'https://en.wikipedia.org//wiki/James_Madison', 'https://en.wikipedia.org//wiki/William_McKinley', 'https://en.wikipedia.org//wiki/James_Monroe', 'https://en.wikipedia.org//wiki/Franklin_Pierce', 'https://en.wikipedia.org//wiki/James_K._Polk', 'https://en.wikipedia.org//wiki/Zachary_Taylor', 'https://en.wikipedia.org//wiki/John_Tyler', 'https://en.wikipedia.org//wiki/Martin_Van_Buren', 'https://en.wikipedia.org//wiki/Joe_Biden', 'https://en.wikipedia.org//wiki/Dick_Cheney', 'https://en.wikipedia.org//wiki/Al_Gore', 'https://en.wikipedia.org//wiki/Kamala_Harris', 'https://en.wikipedia.org//wiki/Mike_Pence', 'https://en.wikipedia.org//wiki/Spiro_Agnew', 'https://en.wikipedia.org//wiki/Alben_W._Barkley', 'https://en.wikipedia.org//wiki/George_H._W._Bush', 'https://en.wikipedia.org//wiki/Calvin_Coolidge', 'https://en.wikipedia.org//wiki/Charles_Curtis', 'https://en.wikipedia.org//wiki/Charles_G._Dawes', 'https://en.wikipedia.org//wiki/Charles_W._Fairbanks', 'https://en.wikipedia.org//wiki/Gerald_Ford', 'https://en.wikipedia.org//wiki/John_Nance_Garner', 'https://en.wikipedia.org//wiki/Al_Gore', 'https://en.wikipedia.org//wiki/Hubert_Humphrey', 'https://en.wikipedia.org//wiki/Lyndon_B._Johnson', 'https://en.wikipedia.org//wiki/Thomas_R._Marshall', 'https://en.wikipedia.org//wiki/Walter_Mondale', 'https://en.wikipedia.org//wiki/Richard_Nixon', 'https://en.wikipedia.org//wiki/Dan_Quayle', 'https://en.wikipedia.org//wiki/Nelson_Rockefeller', 'https://en.wikipedia.org//wiki/Theodore_Roosevelt', 'https://en.wikipedia.org//wiki/James_S._Sherman', 'https://en.wikipedia.org//wiki/Harry_S._Truman', 'https://en.wikipedia.org//wiki/Henry_A._Wallace', 'https://en.wikipedia.org//wiki/John_C._Breckinridge', 'https://en.wikipedia.org//wiki/Aaron_Burr', 'https://en.wikipedia.org//wiki/John_C._Calhoun', 'https://en.wikipedia.org//wiki/George_Clinton_(vice_president)', 'https://en.wikipedia.org//wiki/Schuyler_Colfax', 'https://en.wikipedia.org//wiki/George_M._Dallas', 'https://en.wikipedia.org//wiki/Millard_Fillmore', 'https://en.wikipedia.org//wiki/Elbridge_Gerry', 'https://en.wikipedia.org//wiki/Hannibal_Hamlin', 'https://en.wikipedia.org//wiki/Thomas_A._Hendricks', 'https://en.wikipedia.org//wiki/Garret_Hobart', 'https://en.wikipedia.org//wiki/Thomas_Jefferson', 'https://en.wikipedia.org//wiki/Andrew_Johnson', 'https://en.wikipedia.org//wiki/Richard_Mentor_Johnson', 'https://en.wikipedia.org//wiki/William_R._King', 'https://en.wikipedia.org//wiki/Levi_P._Morton', 'https://en.wikipedia.org//wiki/Adlai_Stevenson_I', 'https://en.wikipedia.org//wiki/Daniel_D._Tompkins', 'https://en.wikipedia.org//wiki/John_Tyler', 'https://en.wikipedia.org//wiki/Martin_Van_Buren', 'https://en.wikipedia.org//wiki/William_A._Wheeler', 'https://en.wikipedia.org//wiki/Henry_Wilson']\n",
        "for surl in turls: \n",
        "  page = requests.get(surl).text\n",
        "  tree = html.fromstring(page)\n",
        " # professions = tree.xpath(\"//table[@class='infobox vcard']/tbody/tr/th[text()='Occupation']/../td/div/ul/li/text()\") \n",
        "  professions = tree.xpath(\"//table[@class='infobox vcard']/tbody/tr/th[contains(text(),'Profession') or contains(text(),'Occupation')]/../td/div/ul/li/text()\")\n",
        "  other_professions = \"\"\n",
        "  for occupation in professions:\n",
        "    if not \"politician\" in occupation.lower():\n",
        "      other_professions = other_professions + occupation.replace(\"'\",\"\") + \" - \"\n",
        "  print(surl +\"         \" + other_professions)"
      ],
      "metadata": {
        "colab": {
          "base_uri": "https://localhost:8080/"
        },
        "id": "7APJt4eSe0Pd",
        "outputId": "9a6c39e4-3319-466b-fdc1-e413d9d9e0fa"
      },
      "execution_count": null,
      "outputs": [
        {
          "output_type": "stream",
          "name": "stdout",
          "text": [
            "https://en.wikipedia.org//wiki/Joe_Biden         lawyer - author - \n",
            "https://en.wikipedia.org//wiki/George_W._Bush         businessman - \n",
            "https://en.wikipedia.org//wiki/Barack_Obama         lawyer - author - \n",
            "https://en.wikipedia.org//wiki/Donald_Trump         businessman - television presenter - \n",
            "https://en.wikipedia.org//wiki/George_H._W._Bush         diplomat - businessman - \n",
            "https://en.wikipedia.org//wiki/Jimmy_Carter         Philanthropist - author - \n",
            "https://en.wikipedia.org//wiki/Bill_Clinton         lawyer - professor - author - \n",
            "https://en.wikipedia.org//wiki/Calvin_Coolidge         lawyer - \n",
            "https://en.wikipedia.org//wiki/Dwight_D._Eisenhower         Military officer - \n",
            "https://en.wikipedia.org//wiki/Gerald_Ford         lawyer - \n",
            "https://en.wikipedia.org//wiki/Warren_G._Harding         journalist - \n",
            "https://en.wikipedia.org//wiki/Herbert_Hoover         engineer - \n",
            "https://en.wikipedia.org//wiki/Lyndon_B._Johnson         teacher - \n",
            "https://en.wikipedia.org//wiki/John_F._Kennedy         journalist - \n",
            "https://en.wikipedia.org//wiki/William_McKinley         lawyer - \n",
            "https://en.wikipedia.org//wiki/Richard_Nixon         lawyer - author - \n",
            "https://en.wikipedia.org//wiki/Ronald_Reagan         trade unionist - actor - author - broadcaster - \n",
            "https://en.wikipedia.org//wiki/Franklin_D._Roosevelt         lawyer - \n",
            "https://en.wikipedia.org//wiki/Theodore_Roosevelt         Author - conservationist - explorer - historian - naturalist - police commissioner - soldier - sportsman - \n",
            "https://en.wikipedia.org//wiki/William_Howard_Taft         lawyer - \n",
            "https://en.wikipedia.org//wiki/Harry_S._Truman         farmer - \n",
            "https://en.wikipedia.org//wiki/Woodrow_Wilson         academic - \n",
            "https://en.wikipedia.org//wiki/John_Adams         lawyer - \n",
            "https://en.wikipedia.org//wiki/John_Quincy_Adams         lawyer - \n",
            "https://en.wikipedia.org//wiki/Chester_A._Arthur         Lawyer - civil servant - \n",
            "https://en.wikipedia.org//wiki/James_Buchanan         lawyer - \n",
            "https://en.wikipedia.org//wiki/Grover_Cleveland         lawyer - \n",
            "https://en.wikipedia.org//wiki/Millard_Fillmore         lawyer - \n",
            "https://en.wikipedia.org//wiki/James_A._Garfield         lawyer - amateur mathematician - \n",
            "https://en.wikipedia.org//wiki/Ulysses_S._Grant         Military officer - \n",
            "https://en.wikipedia.org//wiki/Benjamin_Harrison         lawyer - \n",
            "https://en.wikipedia.org//wiki/William_Henry_Harrison         Military officer - \n",
            "https://en.wikipedia.org//wiki/Rutherford_B._Hayes         lawyer - \n",
            "https://en.wikipedia.org//wiki/Andrew_Jackson         lawyer - soldier - \n",
            "https://en.wikipedia.org//wiki/Thomas_Jefferson         lawyer - \n",
            "https://en.wikipedia.org//wiki/Andrew_Johnson         tailor - \n",
            "https://en.wikipedia.org//wiki/Abraham_Lincoln         lawyer - \n",
            "https://en.wikipedia.org//wiki/James_Madison         farmer - \n",
            "https://en.wikipedia.org//wiki/William_McKinley         lawyer - \n",
            "https://en.wikipedia.org//wiki/James_Monroe         lawyer - \n",
            "https://en.wikipedia.org//wiki/Franklin_Pierce         lawyer - \n",
            "https://en.wikipedia.org//wiki/James_K._Polk         lawyer - \n",
            "https://en.wikipedia.org//wiki/Zachary_Taylor         Military officer - \n",
            "https://en.wikipedia.org//wiki/John_Tyler         lawyer - \n",
            "https://en.wikipedia.org//wiki/Martin_Van_Buren         lawyer - \n",
            "https://en.wikipedia.org//wiki/Joe_Biden         lawyer - author - \n",
            "https://en.wikipedia.org//wiki/Dick_Cheney         \n",
            "https://en.wikipedia.org//wiki/Al_Gore         environmentalist - lawyer - businessman - journalist - author - \n",
            "https://en.wikipedia.org//wiki/Kamala_Harris         lawyer - author - \n",
            "https://en.wikipedia.org//wiki/Mike_Pence         lawyer - broadcaster - \n",
            "https://en.wikipedia.org//wiki/Spiro_Agnew         \n",
            "https://en.wikipedia.org//wiki/Alben_W._Barkley         \n",
            "https://en.wikipedia.org//wiki/George_H._W._Bush         diplomat - businessman - \n",
            "https://en.wikipedia.org//wiki/Calvin_Coolidge         lawyer - \n",
            "https://en.wikipedia.org//wiki/Charles_Curtis         \n",
            "https://en.wikipedia.org//wiki/Charles_G._Dawes         \n",
            "https://en.wikipedia.org//wiki/Charles_W._Fairbanks         \n",
            "https://en.wikipedia.org//wiki/Gerald_Ford         lawyer - \n",
            "https://en.wikipedia.org//wiki/John_Nance_Garner         \n",
            "https://en.wikipedia.org//wiki/Al_Gore         environmentalist - lawyer - businessman - journalist - author - \n",
            "https://en.wikipedia.org//wiki/Hubert_Humphrey         \n",
            "https://en.wikipedia.org//wiki/Lyndon_B._Johnson         teacher - \n",
            "https://en.wikipedia.org//wiki/Thomas_R._Marshall         \n",
            "https://en.wikipedia.org//wiki/Walter_Mondale         \n",
            "https://en.wikipedia.org//wiki/Richard_Nixon         lawyer - author - \n",
            "https://en.wikipedia.org//wiki/Dan_Quayle         \n",
            "https://en.wikipedia.org//wiki/Nelson_Rockefeller         \n",
            "https://en.wikipedia.org//wiki/Theodore_Roosevelt         Author - conservationist - explorer - historian - naturalist - police commissioner - soldier - sportsman - \n",
            "https://en.wikipedia.org//wiki/James_S._Sherman         \n",
            "https://en.wikipedia.org//wiki/Harry_S._Truman         farmer - \n",
            "https://en.wikipedia.org//wiki/Henry_A._Wallace         \n",
            "https://en.wikipedia.org//wiki/John_C._Breckinridge         \n",
            "https://en.wikipedia.org//wiki/Aaron_Burr         \n",
            "https://en.wikipedia.org//wiki/John_C._Calhoun         \n",
            "https://en.wikipedia.org//wiki/George_Clinton_(vice_president)         \n",
            "https://en.wikipedia.org//wiki/Schuyler_Colfax         \n",
            "https://en.wikipedia.org//wiki/George_M._Dallas         \n",
            "https://en.wikipedia.org//wiki/Millard_Fillmore         lawyer - \n",
            "https://en.wikipedia.org//wiki/Elbridge_Gerry         \n",
            "https://en.wikipedia.org//wiki/Hannibal_Hamlin         \n",
            "https://en.wikipedia.org//wiki/Thomas_A._Hendricks         \n",
            "https://en.wikipedia.org//wiki/Garret_Hobart         attorney - \n",
            "https://en.wikipedia.org//wiki/Thomas_Jefferson         lawyer - \n",
            "https://en.wikipedia.org//wiki/Andrew_Johnson         tailor - \n",
            "https://en.wikipedia.org//wiki/Richard_Mentor_Johnson         \n",
            "https://en.wikipedia.org//wiki/William_R._King         \n",
            "https://en.wikipedia.org//wiki/Levi_P._Morton         \n",
            "https://en.wikipedia.org//wiki/Adlai_Stevenson_I         \n",
            "https://en.wikipedia.org//wiki/Daniel_D._Tompkins         \n",
            "https://en.wikipedia.org//wiki/John_Tyler         lawyer - \n",
            "https://en.wikipedia.org//wiki/Martin_Van_Buren         lawyer - \n",
            "https://en.wikipedia.org//wiki/William_A._Wheeler         \n",
            "https://en.wikipedia.org//wiki/Henry_Wilson         \n"
          ]
        }
      ]
    }
  ]
}